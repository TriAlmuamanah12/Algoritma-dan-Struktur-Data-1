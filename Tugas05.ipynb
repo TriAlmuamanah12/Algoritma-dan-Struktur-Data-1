{
 "cells": [
  {
   "cell_type": "code",
   "execution_count": 2,
   "metadata": {},
   "outputs": [
    {
     "name": "stdout",
     "output_type": "stream",
     "text": [
      "I like programming\n",
      "Because I pround to make something new\n"
     ]
    }
   ],
   "source": [
    "#Tri Almu'amanah\n",
    "#Membuat Fungsi 2\n",
    "\n",
    "#Membuat Fungsi 1\n",
    "def a ():\n",
    "    print (\"Because I pround to make something new\")\n",
    "    \n",
    "#Membuat Fungsi 2\n",
    "def b ():\n",
    "    print (\"I like programming\")\n",
    "\n",
    "#Pemanggilan Fungsi\n",
    "b()\n",
    "a()"
   ]
  },
  {
   "cell_type": "code",
   "execution_count": 13,
   "metadata": {},
   "outputs": [
    {
     "name": "stdout",
     "output_type": "stream",
     "text": [
      "Masukkan Nama Anda :Tri Almu'amanah\n",
      "Nama saya adalah : Tri Almu'amanah\n",
      "Luas persegi panjang adalah : 50\n",
      "Luas persegi panjang adalah : 5000\n"
     ]
    }
   ],
   "source": [
    "#Tri Almu'amanah\n",
    "#Membuat fungsi \n",
    "\n",
    "#Fungsi pertama\n",
    "def perkenalan():\n",
    "    nama = input(\"Masukkan Nama Anda :\")\n",
    "    print (\"Nama saya adalah :\", nama)\n",
    "\n",
    "#Fungsi kedua dengan parameter\n",
    "def luas_persegipanjang(panjang, lebar):\n",
    "    luas = panjang * lebar\n",
    "    print (\"Luas persegi panjang adalah :\", luas)\n",
    "\n",
    "#Penampilan Fungsi\n",
    "perkenalan()\n",
    "luas_persegipanjang(5, 10)\n",
    "luas_persegipanjang(100, 50)\n",
    "\n",
    "    "
   ]
  },
  {
   "cell_type": "code",
   "execution_count": 2,
   "metadata": {},
   "outputs": [
    {
     "name": "stdout",
     "output_type": "stream",
     "text": [
      "p :12\n",
      "l :8\n",
      "t :7\n",
      "Luas persegi panjang adalah 96\n",
      "volume balok adalah 672\n"
     ]
    }
   ],
   "source": [
    "#Tri Almu'amanah\n",
    "#Fungsi Return Non Parameter\n",
    "\n",
    "p = int (input(\"p :\"))\n",
    "l = int (input(\"l :\"))\n",
    "t = int (input(\"t :\"))\n",
    "\n",
    "def  luas_pp():\n",
    "    luas = p * l\n",
    "    return luas\n",
    "\n",
    "def volume_balok():\n",
    "    volume = luas_pp()*t\n",
    "    return volume\n",
    "print (\"Luas persegi panjang adalah\", luas_pp())\n",
    "print (\"volume balok adalah\", volume_balok())"
   ]
  },
  {
   "cell_type": "code",
   "execution_count": 4,
   "metadata": {},
   "outputs": [
    {
     "name": "stdout",
     "output_type": "stream",
     "text": [
      "Masukkan angka ke 1 :5\n",
      "Masukkan angka ke 2 :5\n",
      "Apakah angka ke 1 sama dengan angka ke 2? : True\n",
      "Apakah angka ke 1 lebih besar dari angka ke 2? : False\n"
     ]
    }
   ],
   "source": [
    "#Tri Almu'amanah\n",
    "#Membuat fungsi\n",
    "\n",
    "#input\n",
    "angka1 = int(input(\"Masukkan angka ke 1 :\"))\n",
    "angka2 = int(input(\"Masukkan angka ke 2 :\"))\n",
    "\n",
    "#fungsi 1\n",
    "def sama_dengan():\n",
    "    logika1 = angka1 == angka2\n",
    "    print (\"Apakah angka ke 1 sama dengan angka ke 2? :\", logika1)\n",
    "    \n",
    "#fungsi 2\n",
    "def lebih_besar():\n",
    "    logika2 = angka1 > angka2\n",
    "    print (\"Apakah angka ke 1 lebih besar dari angka ke 2? :\", logika2)\n",
    "    \n",
    "#pemanggilan fungsi\n",
    "sama_dengan()\n",
    "lebih_besar()"
   ]
  }
 ],
 "metadata": {
  "kernelspec": {
   "display_name": "Python 3",
   "language": "python",
   "name": "python3"
  },
  "language_info": {
   "codemirror_mode": {
    "name": "ipython",
    "version": 3
   },
   "file_extension": ".py",
   "mimetype": "text/x-python",
   "name": "python",
   "nbconvert_exporter": "python",
   "pygments_lexer": "ipython3",
   "version": "3.8.3"
  }
 },
 "nbformat": 4,
 "nbformat_minor": 4
}

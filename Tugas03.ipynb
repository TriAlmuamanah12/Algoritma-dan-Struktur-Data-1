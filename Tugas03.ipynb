{
 "cells": [
  {
   "cell_type": "code",
   "execution_count": 2,
   "metadata": {},
   "outputs": [
    {
     "name": "stdout",
     "output_type": "stream",
     "text": [
      "berat badan Tri Almu'amanah adalah 45\n"
     ]
    },
    {
     "ename": "NameError",
     "evalue": "name 'berat_badan' is not defined",
     "output_type": "error",
     "traceback": [
      "\u001b[1;31m---------------------------------------------------------------------------\u001b[0m",
      "\u001b[1;31mNameError\u001b[0m                                 Traceback (most recent call last)",
      "\u001b[1;32m<ipython-input-2-3f6bb0001adf>\u001b[0m in \u001b[0;36m<module>\u001b[1;34m\u001b[0m\n\u001b[0;32m      5\u001b[0m \u001b[1;33m\u001b[0m\u001b[0m\n\u001b[0;32m      6\u001b[0m \u001b[1;32mdel\u001b[0m \u001b[1;33m(\u001b[0m\u001b[0mberat_badan\u001b[0m\u001b[1;33m)\u001b[0m\u001b[1;33m\u001b[0m\u001b[1;33m\u001b[0m\u001b[0m\n\u001b[1;32m----> 7\u001b[1;33m \u001b[0mprint\u001b[0m \u001b[1;33m(\u001b[0m\u001b[0mberat_badan\u001b[0m\u001b[1;33m)\u001b[0m\u001b[1;33m\u001b[0m\u001b[1;33m\u001b[0m\u001b[0m\n\u001b[0m",
      "\u001b[1;31mNameError\u001b[0m: name 'berat_badan' is not defined"
     ]
    }
   ],
   "source": [
    "#Nama Tri Almu'amanah\n",
    "\n",
    "berat_badan = 45 #variabel : berat_badan\n",
    "print (\"berat badan Tri Almu'amanah adalah\", berat_badan)\n",
    "\n",
    "del (berat_badan)\n",
    "print (berat_badan)"
   ]
  },
  {
   "cell_type": "code",
   "execution_count": 1,
   "metadata": {},
   "outputs": [
    {
     "name": "stdout",
     "output_type": "stream",
     "text": [
      "keliling lingkaran sama dengan 314.0\n"
     ]
    }
   ],
   "source": [
    "r = 50\n",
    "phi = 3.14\n",
    "k = 2*phi*r\n",
    "print (\"keliling lingkaran sama dengan\", k)"
   ]
  },
  {
   "cell_type": "code",
   "execution_count": 6,
   "metadata": {},
   "outputs": [
    {
     "name": "stdout",
     "output_type": "stream",
     "text": [
      "True\n",
      "False\n"
     ]
    }
   ],
   "source": [
    "#Tri Almu'amanah\n",
    "#perbandingan boolean\n",
    "\n",
    "perbandingan1 = 12 > 10\n",
    "perbandingan2 = 13 < 10\n",
    "print (perbandingan1)\n",
    "print (perbandingan2)"
   ]
  },
  {
   "cell_type": "code",
   "execution_count": 7,
   "metadata": {},
   "outputs": [
    {
     "name": "stdout",
     "output_type": "stream",
     "text": [
      "64.0\n",
      "0b1000000\n",
      "0x40\n"
     ]
    }
   ],
   "source": [
    "a = 64\n",
    "print (float (a))\n",
    "print (bin (a))\n",
    "print (hex (a))\n"
   ]
  },
  {
   "cell_type": "code",
   "execution_count": 1,
   "metadata": {},
   "outputs": [
    {
     "name": "stdout",
     "output_type": "stream",
     "text": [
      "Biodata Mahasiswa\n",
      "Nama : Tri Almuamanah\n",
      "NIM :  20090093\n",
      "\n",
      "Dia mahasiswa semester 1 yang berprestasi, karena memiliki IPK sebesar 3.98\n"
     ]
    },
    {
     "ename": "NameError",
     "evalue": "name 'ipk' is not defined",
     "output_type": "error",
     "traceback": [
      "\u001b[1;31m---------------------------------------------------------------------------\u001b[0m",
      "\u001b[1;31mNameError\u001b[0m                                 Traceback (most recent call last)",
      "\u001b[1;32m<ipython-input-1-92c417fa0119>\u001b[0m in \u001b[0;36m<module>\u001b[1;34m\u001b[0m\n\u001b[0;32m     13\u001b[0m \u001b[1;33m\u001b[0m\u001b[0m\n\u001b[0;32m     14\u001b[0m \u001b[1;32mdel\u001b[0m \u001b[1;33m(\u001b[0m\u001b[0mipk\u001b[0m\u001b[1;33m)\u001b[0m\u001b[1;33m\u001b[0m\u001b[1;33m\u001b[0m\u001b[0m\n\u001b[1;32m---> 15\u001b[1;33m \u001b[0mprint\u001b[0m \u001b[1;33m(\u001b[0m\u001b[0mipk\u001b[0m\u001b[1;33m)\u001b[0m\u001b[1;33m\u001b[0m\u001b[1;33m\u001b[0m\u001b[0m\n\u001b[0m\u001b[0;32m     16\u001b[0m \u001b[1;33m\u001b[0m\u001b[0m\n",
      "\u001b[1;31mNameError\u001b[0m: name 'ipk' is not defined"
     ]
    }
   ],
   "source": [
    "print (\"Biodata Mahasiswa\")\n",
    "\n",
    "nama = \"Tri Almuamanah\"\n",
    "nim = \"\"\" 20090093\n",
    "\"\"\"\n",
    "semester = 1\n",
    "ipk = 3.98\n",
    "\n",
    "print (\"Nama :\", nama)\n",
    "print (\"NIM :\", nim)\n",
    "print (\"Dia mahasiswa semester\", semester , \"yang berprestasi, karena memiliki IPK sebesar\", ipk)\n",
    "\n",
    "\n",
    "del (ipk)\n",
    "print (ipk)\n",
    "\n"
   ]
  },
  {
   "cell_type": "code",
   "execution_count": null,
   "metadata": {},
   "outputs": [],
   "source": []
  }
 ],
 "metadata": {
  "kernelspec": {
   "display_name": "Python 3",
   "language": "python",
   "name": "python3"
  },
  "language_info": {
   "codemirror_mode": {
    "name": "ipython",
    "version": 3
   },
   "file_extension": ".py",
   "mimetype": "text/x-python",
   "name": "python",
   "nbconvert_exporter": "python",
   "pygments_lexer": "ipython3",
   "version": "3.8.3"
  }
 },
 "nbformat": 4,
 "nbformat_minor": 4
}

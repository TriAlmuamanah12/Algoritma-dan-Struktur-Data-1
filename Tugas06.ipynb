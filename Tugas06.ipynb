{
 "cells": [
  {
   "cell_type": "code",
   "execution_count": 2,
   "metadata": {},
   "outputs": [
    {
     "name": "stdout",
     "output_type": "stream",
     "text": [
      "Masukan Nilai65\n",
      "Harus Ikut Remidi\n"
     ]
    }
   ],
   "source": [
    "#Tri Almu'amanah\n",
    "#Percabangan if\n",
    "\n",
    "nilai = int(input(\"Masukan Nilai\"))\n",
    "\n",
    "if nilai <=70:\n",
    "    print(\"Harus Ikut Remidi\")\n"
   ]
  },
  {
   "cell_type": "code",
   "execution_count": 3,
   "metadata": {},
   "outputs": [
    {
     "name": "stdout",
     "output_type": "stream",
     "text": [
      "Masukan Nilai100\n"
     ]
    }
   ],
   "source": [
    "#Tri Almu'amanah\n",
    "#Percabangan if\n",
    "\n",
    "nilai = int(input(\"Masukan Nilai\"))\n",
    "\n",
    "if nilai <=70:\n",
    "    print(\"Harus Ikut Remidi\")\n"
   ]
  },
  {
   "cell_type": "code",
   "execution_count": 6,
   "metadata": {},
   "outputs": [
    {
     "name": "stdout",
     "output_type": "stream",
     "text": [
      "Masukan r :75\n",
      "Luas Lingkaran Adalah : 17662.5\n",
      "Lingkaran Ini Besar\n"
     ]
    }
   ],
   "source": [
    "#Tri Almu'amanah\n",
    "#Percabangan if else\n",
    "\n",
    "r = int(input(\"Masukan r :\"))\n",
    "l = 3.14 *r*r\n",
    "\n",
    "print (\"Luas Lingkaran Adalah :\", l)\n",
    "\n",
    "if l >314:\n",
    "    print(\"Lingkaran Ini Besar\")\n",
    "else:\n",
    "    print(\"Lingkaran Ini Keci\")\n"
   ]
  },
  {
   "cell_type": "code",
   "execution_count": 7,
   "metadata": {},
   "outputs": [
    {
     "name": "stdout",
     "output_type": "stream",
     "text": [
      "Masukan r :8\n",
      "Luas Lingkaran Adalah : 200.96\n",
      "Lingkaran Ini Keci\n"
     ]
    }
   ],
   "source": [
    "#Tri Almu'amanah\n",
    "#Percabangan if else\n",
    "\n",
    "r = int(input(\"Masukan r :\"))\n",
    "l = 3.14 *r*r\n",
    "\n",
    "print (\"Luas Lingkaran Adalah :\", l)\n",
    "\n",
    "if l >314:\n",
    "    print(\"Lingkaran Ini Besar\")\n",
    "else:\n",
    "    print(\"Lingkaran Ini Keci\")\n"
   ]
  },
  {
   "cell_type": "code",
   "execution_count": 12,
   "metadata": {},
   "outputs": [
    {
     "name": "stdout",
     "output_type": "stream",
     "text": [
      "[1/2]2\n",
      "Masukkan s :6\n",
      "Volume Kubus 216\n"
     ]
    }
   ],
   "source": [
    "#Tri Almu'amanah\n",
    "#\n",
    "\n",
    "def volume_balok():\n",
    "    p = int(input(\"Masukkan p\"))\n",
    "    l = int(input(\"Masukkan l\"))\n",
    "    t = int(input(\"Masukkan t\"))\n",
    "    v_balok: p*l*t\n",
    "    return v_balok\n",
    "\n",
    "def volume_kubus():\n",
    "    s = int(input(\"Masukkan s :\"))\n",
    "    v_kubus =  s*s*s\n",
    "    return v_kubus\n",
    "\n",
    "pilihan = int(input(\"[1/2]\"))\n",
    "if pilihan == 1:\n",
    "    print(\"Volume Balok\", volume_balok())\n",
    "    \n",
    "elif pilihan == 2:\n",
    "    print(\"Volume Kubus\", volume_kubus())\n",
    "    \n",
    "else:\n",
    "    print(\"Tidak Ada Program\")\n",
    "    "
   ]
  },
  {
   "cell_type": "markdown",
   "metadata": {},
   "source": []
  }
 ],
 "metadata": {
  "kernelspec": {
   "display_name": "Python 3",
   "language": "python",
   "name": "python3"
  },
  "language_info": {
   "codemirror_mode": {
    "name": "ipython",
    "version": 3
   },
   "file_extension": ".py",
   "mimetype": "text/x-python",
   "name": "python",
   "nbconvert_exporter": "python",
   "pygments_lexer": "ipython3",
   "version": "3.8.3"
  }
 },
 "nbformat": 4,
 "nbformat_minor": 4
}

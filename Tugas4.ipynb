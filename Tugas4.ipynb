{
 "cells": [
  {
   "cell_type": "code",
   "execution_count": 1,
   "metadata": {},
   "outputs": [
    {
     "name": "stdout",
     "output_type": "stream",
     "text": [
      "Hasil  12 + 5 = 17\n",
      "Hasil  12 - 5 = 7\n",
      "Hasil  12 * 5 = 60\n",
      "Hasil  12 / 5 = 2.4\n",
      "Hasil  12 % 5 = 2\n",
      "Hasil  12 ** 5 = 248832\n"
     ]
    }
   ],
   "source": [
    "#Tri Almu'amanah\n",
    "#Operator Aritmatika\n",
    "\n",
    "a = 12\n",
    "b = 5\n",
    "\n",
    "#Menggunakan Operator Penjumlahan\n",
    "c = a + b\n",
    "print (\"Hasil \", a, \"+\", b, \"=\", c)\n",
    "\n",
    "#Menggunakan Operator Pengurangan\n",
    "d = a - b\n",
    "print (\"Hasil \", a, \"-\", b, \"=\", d)\n",
    "\n",
    "#Mengunakan Operator Perkalian\n",
    "e = a * b\n",
    "print (\"Hasil \", a, \"*\", b, \"=\", e)\n",
    "\n",
    "#Menggunakan Operator Pembagian\n",
    "f = a / b\n",
    "print (\"Hasil \", a, \"/\", b, \"=\", f)\n",
    "\n",
    "#Menggunakan Operator Sisa Bagi\n",
    "g = a % b\n",
    "print (\"Hasil \", a, \"%\", b, \"=\", g)\n",
    "\n",
    "#Menggunakan Operator Pemangkatan\n",
    "h = a ** b\n",
    "print (\"Hasil \", a, \"**\", b, \"=\", h)"
   ]
  },
  {
   "cell_type": "code",
   "execution_count": 3,
   "metadata": {},
   "outputs": [
    {
     "name": "stdout",
     "output_type": "stream",
     "text": [
      "Data yang diisi adalah : 9\n",
      "Angka setelah ditambah 3 adalah : 12\n",
      "Angka setelah dikurangi 4 adalah : 8\n",
      "Angka setelah dikali 11 adalah : 88\n",
      "Angka setelah dibagi 3 adalah : 22.0\n",
      "Angka sisa setelah dibagi 5 adalah : 2.0\n",
      "Angka setelah dipangkatkan 4 adalah : 16.0\n"
     ]
    }
   ],
   "source": [
    "#Tri Almu'amanah\n",
    "#Operator Penugasan\n",
    "\n",
    "#Operator Penugasan\n",
    "angka = 9\n",
    "print (\"Data yang diisi adalah :\", angka)\n",
    "\n",
    "#Operator Penugasan Untuk Penjumlahan\n",
    "angka += 3\n",
    "print (\"Angka setelah ditambah 3 adalah :\", angka)\n",
    "\n",
    "#Operator Penugasan Untuk Pengurangan\n",
    "angka -= 4\n",
    "print (\"Angka setelah dikurangi 4 adalah :\", angka)\n",
    "\n",
    "#Operator Penugasan Untuk Perkalian\n",
    "angka *= 11\n",
    "print (\"Angka setelah dikali 11 adalah :\", angka)\n",
    "\n",
    "#Operator Penugasa Untuk Pembagian\n",
    "angka /= 4\n",
    "print (\"Angka setelah dibagi 3 adalah :\", angka)\n",
    "\n",
    "#Operator Penugasan Untuk Sisa Bagi\n",
    "angka %= 5\n",
    "print (\"Angka sisa setelah dibagi 5 adalah :\", angka)\n",
    "\n",
    "#Operator Penugasan Pemangkatan\n",
    "angka **= 4\n",
    "print (\"Angka setelah dipangkatkan 4 adalah :\", angka)\n"
   ]
  },
  {
   "cell_type": "code",
   "execution_count": 4,
   "metadata": {},
   "outputs": [
    {
     "name": "stdout",
     "output_type": "stream",
     "text": [
      "Apakah a lebih besar dari b? : True\n",
      "Apakah a lebih kecil dari b? : False\n",
      "Apakah a sama dengan dari b? : False\n",
      "Apakah a tidak sama dengan dari b? : True\n",
      "Apakah a lebih sama dengan dari b? : True\n",
      "Apakah a lebih kecil dari sama dengan dari b? : False\n"
     ]
    }
   ],
   "source": [
    "#Tri Almu'amanah\n",
    "#Operator Pembanding #menggunakan tipe data boolean\n",
    "\n",
    "#Operator perbandingan lebih besar\n",
    "a = 10                                      \n",
    "b = 5\n",
    "\n",
    "perbandingan1 = a > b\n",
    "print (\"Apakah a lebih besar dari b? :\", perbandingan1)\n",
    "\n",
    "#Operator perbandingan lebih kecil\n",
    "perbandingan2 = a < b\n",
    "print (\"Apakah a lebih kecil dari b? :\", perbandingan2)\n",
    "\n",
    "#Operator perbandingan sama dengan\n",
    "perbandingan3 = a == b\n",
    "print (\"Apakah a sama dengan dari b? :\", perbandingan3)\n",
    "\n",
    "#Operator perbandingan tidak sama dengan\n",
    "perbandingan4 = a != b\n",
    "print (\"Apakah a tidak sama dengan dari b? :\", perbandingan4)\n",
    "\n",
    "#Operator perbandingan lebih besar sama dengan \n",
    "perbandingan5 = a >= b\n",
    "print (\"Apakah a lebih sama dengan dari b? :\", perbandingan5)\n",
    "\n",
    "#Operator perbandingan kurang dari sama dengan\n",
    "perbandingan6 = a <= b\n",
    "print (\"Apakah a lebih kecil dari sama dengan dari b? :\", perbandingan6)"
   ]
  },
  {
   "cell_type": "code",
   "execution_count": 5,
   "metadata": {},
   "outputs": [
    {
     "name": "stdout",
     "output_type": "stream",
     "text": [
      "Logika AND adalah jika keduanya True, maka : True\n",
      "Logika AND adalah jika salah satunya false, maka : False\n",
      "Logika AND adalah jika keduanya False, maka : False\n",
      "Logika OR adalah jika salah satunya True, maka : True\n",
      "Logika OR adalah jika salah satunya True, maka : True\n",
      "Logika OR adalah jika keduanya False, maka : False\n",
      "Logika NOT adalah jika True, maka : False\n",
      "Logika NOT adalah jika False, maka : False\n"
     ]
    }
   ],
   "source": [
    "#Tri Almu'amanah\n",
    "#Operator Logika\n",
    "\n",
    "#Logika AND\n",
    "angka1 = True\n",
    "angka2 = True\n",
    "and1 = angka1 and angka2\n",
    "print (\"Logika AND adalah jika keduanya True, maka :\", and1)\n",
    "\n",
    "angka3 = True\n",
    "angka4 = False\n",
    "and2 = angka3 and angka4\n",
    "print (\"Logika AND adalah jika salah satunya false, maka :\", and2)\n",
    "\n",
    "angka5 = False\n",
    "angka6 = False\n",
    "and3 = angka5 and angka6\n",
    "print (\"Logika AND adalah jika keduanya False, maka :\", and3)\n",
    "\n",
    "#Logika OR\n",
    "or1 = angka1 or angka2\n",
    "print (\"Logika OR adalah jika salah satunya True, maka :\", or1)\n",
    "\n",
    "or2 = angka3 or angka4\n",
    "print (\"Logika OR adalah jika salah satunya True, maka :\", or2)\n",
    "\n",
    "or3 = angka5 or angka6\n",
    "print (\"Logika OR adalah jika keduanya False, maka :\", or3)\n",
    "\n",
    "#Logika NOT\n",
    "\n",
    "not1 = not angka1\n",
    "print (\"Logika NOT adalah jika True, maka :\", not1)\n",
    "\n",
    "not2 = angka4\n",
    "print (\"Logika NOT adalah jika False, maka :\", not2)"
   ]
  },
  {
   "cell_type": "code",
   "execution_count": 7,
   "metadata": {},
   "outputs": [
    {
     "name": "stdout",
     "output_type": "stream",
     "text": [
      "Masukkan nama bayi :Nila\n",
      "Masukkan berat badan bayi (KG) :3\n",
      "Berat Badannya :  9 (Ons) \n",
      "Hallo  Nila berat badan mu adalah 9 KG atau 9 ONS,  1 bulan kemudian 39\n"
     ]
    }
   ],
   "source": [
    "#Tri Almu'amanah\n",
    "#Input Output\n",
    "\n",
    "#Input\n",
    "nama_bayi = (input(\"Masukkan nama bayi :\"))\n",
    "berat_badan = int (input(\"Masukkan berat badan bayi (KG) :\"))\n",
    "\n",
    "#Proses\n",
    "ons = berat_badan = 9\n",
    "berat_1bulan = ons + 30\n",
    "\n",
    "#Output\n",
    "print (\"Berat Badannya : \",ons, \"(Ons) \")\n",
    "print (\"Hallo \", nama_bayi, \"berat badan mu adalah\", berat_badan, \"KG\", \"atau\", ons, \"ONS, \", \"1 bulan kemudian\", berat_1bulan)"
   ]
  },
  {
   "cell_type": "code",
   "execution_count": null,
   "metadata": {},
   "outputs": [],
   "source": []
  }
 ],
 "metadata": {
  "kernelspec": {
   "display_name": "Python 3",
   "language": "python",
   "name": "python3"
  },
  "language_info": {
   "codemirror_mode": {
    "name": "ipython",
    "version": 3
   },
   "file_extension": ".py",
   "mimetype": "text/x-python",
   "name": "python",
   "nbconvert_exporter": "python",
   "pygments_lexer": "ipython3",
   "version": "3.8.3"
  }
 },
 "nbformat": 4,
 "nbformat_minor": 4
}
